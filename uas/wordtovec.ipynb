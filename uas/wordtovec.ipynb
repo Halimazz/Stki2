{
 "cells": [
  {
   "cell_type": "code",
   "execution_count": 1,
   "metadata": {},
   "outputs": [],
   "source": [
    "import os.path\n",
    "\n",
    "import pandas as pd\n",
    "from tqdm.auto import tqdm\n",
    "\n",
    "from nltk.tokenize import word_tokenize\n",
    "from gensim.models import Word2Vec\n"
   ]
  },
  {
   "cell_type": "code",
   "execution_count": 2,
   "metadata": {},
   "outputs": [
    {
     "data": {
      "text/html": [
       "<div>\n",
       "<style scoped>\n",
       "    .dataframe tbody tr th:only-of-type {\n",
       "        vertical-align: middle;\n",
       "    }\n",
       "\n",
       "    .dataframe tbody tr th {\n",
       "        vertical-align: top;\n",
       "    }\n",
       "\n",
       "    .dataframe thead th {\n",
       "        text-align: right;\n",
       "    }\n",
       "</style>\n",
       "<table border=\"1\" class=\"dataframe\">\n",
       "  <thead>\n",
       "    <tr style=\"text-align: right;\">\n",
       "      <th></th>\n",
       "      <th>review</th>\n",
       "      <th>username</th>\n",
       "    </tr>\n",
       "  </thead>\n",
       "  <tbody>\n",
       "    <tr>\n",
       "      <th>0</th>\n",
       "      <td>Exco PSSI, Arya Sinulingga membantah kabar Pia...</td>\n",
       "      <td>most1058</td>\n",
       "    </tr>\n",
       "    <tr>\n",
       "      <th>1</th>\n",
       "      <td>@Paltiwest Lebih baik dipindah Piala Dunia U 2...</td>\n",
       "      <td>MangasiPanggab2</td>\n",
       "    </tr>\n",
       "    <tr>\n",
       "      <th>2</th>\n",
       "      <td>FIFA membatalkan drawing pembagian grup Piala ...</td>\n",
       "      <td>detiksport</td>\n",
       "    </tr>\n",
       "    <tr>\n",
       "      <th>3</th>\n",
       "      <td>@Dennysiregar7 Berarti tidak percaya komitmen ...</td>\n",
       "      <td>DaltonSembirin1</td>\n",
       "    </tr>\n",
       "    <tr>\n",
       "      <th>4</th>\n",
       "      <td>Caper, Baper, Tantrum dimana-mana, dan Cari Ga...</td>\n",
       "      <td>5kiOnD1splay</td>\n",
       "    </tr>\n",
       "  </tbody>\n",
       "</table>\n",
       "</div>"
      ],
      "text/plain": [
       "                                              review         username\n",
       "0  Exco PSSI, Arya Sinulingga membantah kabar Pia...         most1058\n",
       "1  @Paltiwest Lebih baik dipindah Piala Dunia U 2...  MangasiPanggab2\n",
       "2  FIFA membatalkan drawing pembagian grup Piala ...       detiksport\n",
       "3  @Dennysiregar7 Berarti tidak percaya komitmen ...  DaltonSembirin1\n",
       "4  Caper, Baper, Tantrum dimana-mana, dan Cari Ga...     5kiOnD1splay"
      ]
     },
     "execution_count": 2,
     "metadata": {},
     "output_type": "execute_result"
    }
   ],
   "source": [
    "df = pd.read_csv(\"data/piala3_review.csv\")\n",
    "df.head()"
   ]
  },
  {
   "cell_type": "code",
   "execution_count": 3,
   "metadata": {},
   "outputs": [
    {
     "name": "stderr",
     "output_type": "stream",
     "text": [
      "[nltk_data] Downloading package punkt to\n",
      "[nltk_data]     C:\\Users\\ASUS\\AppData\\Roaming\\nltk_data...\n",
      "[nltk_data]   Package punkt is already up-to-date!\n",
      "100%|██████████| 50/50 [00:00<00:00, 1882.34it/s]\n"
     ]
    },
    {
     "data": {
      "text/plain": [
       "['@',\n",
       " 'ekagud1',\n",
       " '@',\n",
       " 'sakitpe14248653',\n",
       " '@',\n",
       " 'adi_8002',\n",
       " 'yg',\n",
       " 'standar',\n",
       " 'ganda',\n",
       " 'itu',\n",
       " 'fifa',\n",
       " ',',\n",
       " 'aturan',\n",
       " 'nya',\n",
       " 'bisa',\n",
       " 'melakukan',\n",
       " 'pencoret',\n",
       " 'rusia',\n",
       " 'ikut',\n",
       " 'serta',\n",
       " 'piala',\n",
       " 'dunia',\n",
       " 'di',\n",
       " 'qatar',\n",
       " ',',\n",
       " 'tetapi',\n",
       " 'kenapa',\n",
       " 'pada',\n",
       " 'zionis',\n",
       " 'israel',\n",
       " 'fifa',\n",
       " 'tidak',\n",
       " 'mencoret',\n",
       " 'zionis',\n",
       " 'israel',\n",
       " 'ikut',\n",
       " 'piala',\n",
       " 'dunia',\n",
       " 'u-20',\n",
       " '...',\n",
       " 'yg',\n",
       " 'mana',\n",
       " 'sampai',\n",
       " 'sekarang',\n",
       " 'ini',\n",
       " 'zionis',\n",
       " 'israel',\n",
       " 'masih',\n",
       " 'menginvasi',\n",
       " 'palestina',\n",
       " '..']"
      ]
     },
     "execution_count": 3,
     "metadata": {},
     "output_type": "execute_result"
    }
   ],
   "source": [
    "from tqdm import tqdm\n",
    "from nltk.tokenize import word_tokenize\n",
    "import nltk\n",
    "nltk.download('punkt')\n",
    "kalimat = [word_tokenize(review.lower())for review in tqdm (df.review)]\n",
    "kalimat [5]"
   ]
  },
  {
   "cell_type": "code",
   "execution_count": 4,
   "metadata": {},
   "outputs": [],
   "source": [
    "from gensim.models import Word2Vec\n",
    "\n",
    "model = Word2Vec(kalimat, vector_size=128, window=5, min_count=3, workers=4, epochs=1000, sg=0, hs=0)\n"
   ]
  },
  {
   "cell_type": "markdown",
   "metadata": {},
   "source": [
    "Save"
   ]
  },
  {
   "cell_type": "code",
   "execution_count": 5,
   "metadata": {},
   "outputs": [],
   "source": [
    "os.makedirs(\"model/w2v\", exist_ok=True)"
   ]
  },
  {
   "cell_type": "code",
   "execution_count": 6,
   "metadata": {},
   "outputs": [],
   "source": [
    "model.save(\"model/w2v/piala3_review.w2v\")"
   ]
  },
  {
   "cell_type": "markdown",
   "metadata": {},
   "source": [
    "Load"
   ]
  },
  {
   "cell_type": "code",
   "execution_count": 7,
   "metadata": {},
   "outputs": [],
   "source": [
    "model = Word2Vec.load(\"model/w2v/piala3_review.w2v\")"
   ]
  },
  {
   "cell_type": "code",
   "execution_count": 8,
   "metadata": {},
   "outputs": [
    {
     "data": {
      "text/plain": [
       "['membantah', 'kabar', 'piala', 'dunia', 'u-20', '2023']"
      ]
     },
     "execution_count": 8,
     "metadata": {},
     "output_type": "execute_result"
    }
   ],
   "source": [
    "\"Membantah kabar Piala Dunia U-20 2023 \".lower().split()"
   ]
  },
  {
   "cell_type": "code",
   "execution_count": 9,
   "metadata": {},
   "outputs": [],
   "source": [
    "contoh_data = [\n",
    "    ['lebih', 'baik', 'israel', 'tidak', 'usah', 'datang', 'karena', 'mereka', 'kejam'],\n",
    "    ['silahkan', 'israel', 'datang', 'saja', 'karena', 'tidak', 'ada', 'hubunganya', 'antara', 'politik']\n",
    "]\n"
   ]
  },
  {
   "cell_type": "code",
   "execution_count": 10,
   "metadata": {},
   "outputs": [
    {
     "data": {
      "text/plain": [
       "(3, 19)"
      ]
     },
     "execution_count": 10,
     "metadata": {},
     "output_type": "execute_result"
    }
   ],
   "source": [
    "model.train(contoh_data, total_examples=len(contoh_data), epochs=1)"
   ]
  },
  {
   "cell_type": "code",
   "execution_count": 11,
   "metadata": {},
   "outputs": [],
   "source": [
    "model.save(\"model/w2v/piala3_review.w2v\")"
   ]
  },
  {
   "cell_type": "markdown",
   "metadata": {},
   "source": [
    "Model Information"
   ]
  },
  {
   "cell_type": "code",
   "execution_count": 12,
   "metadata": {},
   "outputs": [],
   "source": [
    "w2v = model.wv"
   ]
  },
  {
   "cell_type": "code",
   "execution_count": 13,
   "metadata": {},
   "outputs": [
    {
     "name": "stdout",
     "output_type": "stream",
     "text": [
      "dunia\n",
      "piala\n",
      "u-20\n",
      "#\n",
      ",\n",
      ":\n",
      "https\n",
      "indonesia\n",
      "di\n",
      ".\n",
      "israel\n",
      "2023\n",
      "fifa\n",
      "@\n",
      "drawing\n",
      "batal\n",
      "yang\n",
      "dan\n",
      "rumah\n",
      "tetap\n",
      "tuan\n",
      "bali\n",
      "timnas\n",
      "yg\n",
      "dalam\n",
      "bisa\n",
      "kita\n",
      "pssi\n",
      "ke\n",
      "shin\n",
      "tidak\n",
      "untuk\n",
      "dari\n",
      "pada\n",
      "?\n",
      "tae-yong\n",
      "digelar\n",
      "ini\n",
      "(\n",
      ")\n",
      "pembatalan\n",
      "jadi\n",
      "inspeksi\n",
      "tersebut\n",
      "grup\n",
      "penolakan\n",
      "siap\n",
      "...\n",
      "harus\n",
      "ada\n",
      "tolak\n",
      "panglimasgn\n",
      "''\n",
      "wagubjateng\n",
      "tajyasin\n",
      "santrigayengnusantara\n",
      "gusyasin\n",
      "terkait\n",
      "tanpa\n",
      "juga\n",
      "u20worldcupbolacom\n",
      "u20worldcupkly\n",
      "meski\n",
      "agar\n",
      "u20worldcupemtek\n",
      "dibatalkan\n",
      "berharap\n",
      "via\n",
      "itu\n",
      "ikut\n",
      "gubernur\n",
      "soal\n",
      "isu\n",
      "tengah\n",
      "peru\n",
      "kabar\n",
      "buzer\n",
      "ganjar\n",
      "apalagi\n",
      "ajang\n",
      "muncul\n",
      "akan\n",
      "stadion-stadion\n",
      "politik\n",
      "viral_sumsel\n",
      "tajyasinmz\n",
      "u\n",
      "&\n",
      "komitmen\n",
      "zionis\n",
      "mana\n",
      "olahraga\n",
      "masih\n",
      "tim\n",
      "sejumlah\n",
      "nasib\n",
      "gelisah\n",
      "saya\n",
      "bahwa\n",
      "sanksi\n",
      "gt\n",
      "20\n",
      "terlaksana\n"
     ]
    }
   ],
   "source": [
    "\n",
    "word_list = w2v.index_to_key\n",
    "# Menampilkan vocabulary\n",
    "for word in word_list:\n",
    "    print(word)"
   ]
  },
  {
   "cell_type": "code",
   "execution_count": 14,
   "metadata": {},
   "outputs": [
    {
     "data": {
      "text/plain": [
       "array([[ 0.5531148 ,  0.6962436 ,  0.2701573 , ...,  0.00856261,\n",
       "         0.07314768, -0.36069176],\n",
       "       [ 0.1287749 ,  0.9125121 ,  0.07890399, ..., -0.31337413,\n",
       "        -0.027946  , -0.6802362 ],\n",
       "       [ 0.25298822,  0.10076859, -0.6564179 , ...,  0.25916213,\n",
       "         0.00255995, -0.16377883],\n",
       "       ...,\n",
       "       [-0.1479277 , -1.7089856 ,  1.0469415 , ...,  0.23608615,\n",
       "         0.07770804,  0.99411756],\n",
       "       [-0.6317804 , -0.71352845, -0.47327286, ...,  0.8580213 ,\n",
       "        -0.09544148,  0.29810795],\n",
       "       [-0.2276707 ,  1.4742332 , -1.0667177 , ...,  1.6959739 ,\n",
       "        -0.38239786,  0.247958  ]], dtype=float32)"
      ]
     },
     "execution_count": 14,
     "metadata": {},
     "output_type": "execute_result"
    }
   ],
   "source": [
    "w2v.vectors"
   ]
  },
  {
   "cell_type": "code",
   "execution_count": 15,
   "metadata": {},
   "outputs": [
    {
     "data": {
      "text/plain": [
       "128"
      ]
     },
     "execution_count": 15,
     "metadata": {},
     "output_type": "execute_result"
    }
   ],
   "source": [
    "w2v.vector_size"
   ]
  },
  {
   "cell_type": "code",
   "execution_count": 16,
   "metadata": {},
   "outputs": [
    {
     "data": {
      "text/plain": [
       "array([ 7.31420755e-01,  3.94748837e-01,  5.03591478e-01, -5.08320630e-01,\n",
       "        3.22001845e-01, -1.27219647e-01, -8.39466691e-01,  8.26408267e-02,\n",
       "        6.24906063e-01,  7.49562025e-01, -1.08025122e+00,  5.25415599e-01,\n",
       "       -7.47290194e-01, -7.58399189e-01,  7.18039751e-01, -5.78827485e-02,\n",
       "        1.24861658e+00, -1.19587937e-02,  8.85445118e-01,  7.30270028e-01,\n",
       "        4.36496317e-01, -1.33518223e-02, -5.89798465e-02,  4.51654196e-01,\n",
       "        3.47152017e-02,  7.91735530e-01,  9.95234847e-01,  1.93297550e-01,\n",
       "        7.03478396e-01,  4.20920283e-01, -1.29097193e-01, -1.04543395e-01,\n",
       "       -3.52460414e-01,  4.53963220e-01, -8.18887234e-01,  5.14444746e-02,\n",
       "        6.65265471e-02, -8.94445926e-02,  5.17998874e-01,  2.45786145e-01,\n",
       "       -1.69525051e+00,  5.45253873e-01, -1.02836716e+00, -5.01027465e-01,\n",
       "        2.76655227e-01, -5.59192836e-01,  8.00974011e-01, -2.19371825e-01,\n",
       "       -4.96881962e-01, -1.13705552e+00, -6.80280447e-01, -1.42083347e-01,\n",
       "       -9.45378840e-01,  1.89709291e-01,  3.99365634e-01,  4.33497697e-01,\n",
       "       -2.03312218e-01,  1.67654753e-01, -3.15554082e-01, -1.09004509e+00,\n",
       "        9.28068340e-01,  6.24665543e-02,  5.62648475e-01, -2.74789840e-01,\n",
       "        1.23336780e+00, -4.49255109e-01,  5.65827370e-01, -2.43692264e-01,\n",
       "       -1.10951059e-01, -6.10653996e-01,  1.29213668e-02,  3.43866438e-01,\n",
       "        3.33011389e-01,  2.03383625e-01, -3.66203487e-01,  1.08978474e+00,\n",
       "       -4.30136621e-01,  1.20068097e+00, -2.63957828e-01, -5.43204367e-01,\n",
       "       -2.85969108e-01,  9.73909870e-02, -4.79863167e-01, -4.12327558e-01,\n",
       "       -4.15334582e-01,  6.82962716e-01,  2.57781208e-01, -8.69525254e-01,\n",
       "        3.82228196e-01,  2.80299932e-01, -9.36500788e-01,  2.23681971e-01,\n",
       "       -1.06860586e-01, -2.46982515e-01,  3.78342390e-01, -1.10895559e-01,\n",
       "       -3.89560878e-01, -8.28854740e-01,  1.28244007e+00, -8.83232474e-01,\n",
       "       -4.75654572e-01,  4.28010464e-01,  1.04542422e+00, -1.43612863e-03,\n",
       "       -1.16226923e+00, -9.16067511e-02, -1.29728937e+00, -1.15888572e+00,\n",
       "        8.51167887e-02, -6.11583829e-01, -6.19635463e-01, -9.01214242e-01,\n",
       "       -2.27081850e-01, -1.12593565e-02, -1.18444718e-01,  2.33075112e-01,\n",
       "       -8.31793100e-02, -5.25531292e-01, -6.00216568e-01,  1.84629753e-01,\n",
       "       -7.84869134e-01,  5.06396824e-03,  4.97601360e-01, -4.31625485e-01,\n",
       "       -7.78384581e-02,  2.42909715e-01, -6.63045347e-01,  9.58027467e-02],\n",
       "      dtype=float32)"
      ]
     },
     "execution_count": 16,
     "metadata": {},
     "output_type": "execute_result"
    }
   ],
   "source": [
    "w2v[\"pssi\"]"
   ]
  },
  {
   "cell_type": "markdown",
   "metadata": {},
   "source": [
    "simillar word"
   ]
  },
  {
   "cell_type": "code",
   "execution_count": 17,
   "metadata": {},
   "outputs": [
    {
     "data": {
      "text/plain": [
       "[('panglimasgn', 0.39318159222602844),\n",
       " ('gusyasin', 0.36369267106056213),\n",
       " ('tengah', 0.3597944676876068),\n",
       " ('tim', 0.35666316747665405),\n",
       " ('tajyasin', 0.34153226017951965)]"
      ]
     },
     "execution_count": 17,
     "metadata": {},
     "output_type": "execute_result"
    }
   ],
   "source": [
    "w2v.similar_by_word(\"israel\", topn=5)"
   ]
  },
  {
   "cell_type": "code",
   "execution_count": 46,
   "metadata": {},
   "outputs": [],
   "source": [
    "from umap import UMAP\n",
    "import numpy as np\n",
    "import pandas as pd\n",
    "import plotly.express as px"
   ]
  },
  {
   "cell_type": "code",
   "execution_count": 47,
   "metadata": {},
   "outputs": [],
   "source": [
    "X = UMAP().fit_transform(w2v.vectors)"
   ]
  },
  {
   "cell_type": "code",
   "execution_count": 48,
   "metadata": {},
   "outputs": [],
   "source": [
    "df = pd.DataFrame(X, columns=[\"umap1\",\"umap2\"])\n",
    "df[\"text\"] = w2v.index_to_key"
   ]
  },
  {
   "cell_type": "code",
   "execution_count": 49,
   "metadata": {},
   "outputs": [
    {
     "data": {
      "text/html": [
       "<div>\n",
       "<style scoped>\n",
       "    .dataframe tbody tr th:only-of-type {\n",
       "        vertical-align: middle;\n",
       "    }\n",
       "\n",
       "    .dataframe tbody tr th {\n",
       "        vertical-align: top;\n",
       "    }\n",
       "\n",
       "    .dataframe thead th {\n",
       "        text-align: right;\n",
       "    }\n",
       "</style>\n",
       "<table border=\"1\" class=\"dataframe\">\n",
       "  <thead>\n",
       "    <tr style=\"text-align: right;\">\n",
       "      <th></th>\n",
       "      <th>umap1</th>\n",
       "      <th>umap2</th>\n",
       "      <th>text</th>\n",
       "    </tr>\n",
       "  </thead>\n",
       "  <tbody>\n",
       "    <tr>\n",
       "      <th>0</th>\n",
       "      <td>6.077472</td>\n",
       "      <td>1.878090</td>\n",
       "      <td>dunia</td>\n",
       "    </tr>\n",
       "    <tr>\n",
       "      <th>1</th>\n",
       "      <td>6.065526</td>\n",
       "      <td>2.655218</td>\n",
       "      <td>piala</td>\n",
       "    </tr>\n",
       "    <tr>\n",
       "      <th>2</th>\n",
       "      <td>5.350204</td>\n",
       "      <td>1.530021</td>\n",
       "      <td>u-20</td>\n",
       "    </tr>\n",
       "    <tr>\n",
       "      <th>3</th>\n",
       "      <td>5.718478</td>\n",
       "      <td>5.271922</td>\n",
       "      <td>#</td>\n",
       "    </tr>\n",
       "    <tr>\n",
       "      <th>4</th>\n",
       "      <td>6.559244</td>\n",
       "      <td>1.537110</td>\n",
       "      <td>,</td>\n",
       "    </tr>\n",
       "    <tr>\n",
       "      <th>...</th>\n",
       "      <td>...</td>\n",
       "      <td>...</td>\n",
       "      <td>...</td>\n",
       "    </tr>\n",
       "    <tr>\n",
       "      <th>98</th>\n",
       "      <td>7.099436</td>\n",
       "      <td>1.603489</td>\n",
       "      <td>bahwa</td>\n",
       "    </tr>\n",
       "    <tr>\n",
       "      <th>99</th>\n",
       "      <td>6.666397</td>\n",
       "      <td>1.430923</td>\n",
       "      <td>sanksi</td>\n",
       "    </tr>\n",
       "    <tr>\n",
       "      <th>100</th>\n",
       "      <td>4.400221</td>\n",
       "      <td>3.369101</td>\n",
       "      <td>gt</td>\n",
       "    </tr>\n",
       "    <tr>\n",
       "      <th>101</th>\n",
       "      <td>5.552416</td>\n",
       "      <td>3.683275</td>\n",
       "      <td>20</td>\n",
       "    </tr>\n",
       "    <tr>\n",
       "      <th>102</th>\n",
       "      <td>6.091408</td>\n",
       "      <td>1.309709</td>\n",
       "      <td>terlaksana</td>\n",
       "    </tr>\n",
       "  </tbody>\n",
       "</table>\n",
       "<p>103 rows × 3 columns</p>\n",
       "</div>"
      ],
      "text/plain": [
       "        umap1     umap2        text\n",
       "0    6.077472  1.878090       dunia\n",
       "1    6.065526  2.655218       piala\n",
       "2    5.350204  1.530021        u-20\n",
       "3    5.718478  5.271922           #\n",
       "4    6.559244  1.537110           ,\n",
       "..        ...       ...         ...\n",
       "98   7.099436  1.603489       bahwa\n",
       "99   6.666397  1.430923      sanksi\n",
       "100  4.400221  3.369101          gt\n",
       "101  5.552416  3.683275          20\n",
       "102  6.091408  1.309709  terlaksana\n",
       "\n",
       "[103 rows x 3 columns]"
      ]
     },
     "execution_count": 49,
     "metadata": {},
     "output_type": "execute_result"
    }
   ],
   "source": [
    "df"
   ]
  },
  {
   "cell_type": "code",
   "execution_count": 50,
   "metadata": {},
   "outputs": [
    {
     "data": {
      "application/vnd.plotly.v1+json": {
       "config": {
        "plotlyServerURL": "https://plot.ly"
       },
       "data": [
        {
         "hovertemplate": "umap1=%{x}<br>umap2=%{y}<br>text=%{text}<extra></extra>",
         "legendgroup": "",
         "marker": {
          "color": "#636efa",
          "symbol": "circle"
         },
         "mode": "markers+text",
         "name": "",
         "orientation": "v",
         "showlegend": false,
         "text": [
          "dunia",
          "piala",
          "u-20",
          "#",
          ",",
          ":",
          "https",
          "indonesia",
          "di",
          ".",
          "israel",
          "2023",
          "fifa",
          "@",
          "drawing",
          "batal",
          "yang",
          "dan",
          "rumah",
          "tetap",
          "tuan",
          "bali",
          "timnas",
          "yg",
          "dalam",
          "bisa",
          "kita",
          "pssi",
          "ke",
          "shin",
          "tidak",
          "untuk",
          "dari",
          "pada",
          "?",
          "tae-yong",
          "digelar",
          "ini",
          "(",
          ")",
          "pembatalan",
          "jadi",
          "inspeksi",
          "tersebut",
          "grup",
          "penolakan",
          "siap",
          "...",
          "harus",
          "ada",
          "tolak",
          "panglimasgn",
          "''",
          "wagubjateng",
          "tajyasin",
          "santrigayengnusantara",
          "gusyasin",
          "terkait",
          "tanpa",
          "juga",
          "u20worldcupbolacom",
          "u20worldcupkly",
          "meski",
          "agar",
          "u20worldcupemtek",
          "dibatalkan",
          "berharap",
          "via",
          "itu",
          "ikut",
          "gubernur",
          "soal",
          "isu",
          "tengah",
          "peru",
          "kabar",
          "buzer",
          "ganjar",
          "apalagi",
          "ajang",
          "muncul",
          "akan",
          "stadion-stadion",
          "politik",
          "viral_sumsel",
          "tajyasinmz",
          "u",
          "&",
          "komitmen",
          "zionis",
          "mana",
          "olahraga",
          "masih",
          "tim",
          "sejumlah",
          "nasib",
          "gelisah",
          "saya",
          "bahwa",
          "sanksi",
          "gt",
          "20",
          "terlaksana"
         ],
         "textposition": "top center",
         "type": "scatter",
         "x": [
          6.07747220993042,
          6.065526485443115,
          5.350203514099121,
          5.718478202819824,
          6.559243679046631,
          4.488264560699463,
          4.662512302398682,
          5.42733907699585,
          6.807568073272705,
          5.7854228019714355,
          6.106236457824707,
          5.198777198791504,
          5.8542046546936035,
          3.9419078826904297,
          4.9726457595825195,
          5.29845666885376,
          6.634308815002441,
          6.555127143859863,
          5.2433881759643555,
          6.149794578552246,
          5.287387847900391,
          6.560583114624023,
          6.779924392700195,
          5.730906009674072,
          6.3710808753967285,
          7.033121109008789,
          6.935406684875488,
          6.510020732879639,
          6.465446949005127,
          4.192744731903076,
          5.33376932144165,
          6.174994945526123,
          6.3777008056640625,
          6.41221809387207,
          5.479284763336182,
          4.249342441558838,
          6.130761623382568,
          7.151333332061768,
          7.049743175506592,
          7.113179683685303,
          4.924739837646484,
          5.071733474731445,
          3.730600357055664,
          5.475559234619141,
          6.241304397583008,
          7.4748854637146,
          5.595757007598877,
          5.742266654968262,
          5.877411365509033,
          5.929287910461426,
          4.560764789581299,
          6.137016296386719,
          5.010570526123047,
          5.928375720977783,
          6.01359748840332,
          5.916182518005371,
          6.264547348022461,
          6.761873722076416,
          6.244781970977783,
          6.658843040466309,
          5.1625590324401855,
          4.994699954986572,
          3.7912545204162598,
          6.3793511390686035,
          4.954186916351318,
          4.144875526428223,
          4.4909844398498535,
          3.6564881801605225,
          6.575079441070557,
          5.275362968444824,
          7.0469136238098145,
          4.342518329620361,
          6.245432376861572,
          7.033966064453125,
          6.251094818115234,
          4.344243049621582,
          5.373959064483643,
          6.8510966300964355,
          4.555943489074707,
          5.952588081359863,
          4.037924289703369,
          6.619731426239014,
          3.656830072402954,
          7.399545669555664,
          3.7390973567962646,
          5.712636947631836,
          5.591725826263428,
          4.297159194946289,
          6.348808288574219,
          5.2416486740112305,
          5.467004299163818,
          7.032978057861328,
          5.4401535987854,
          7.312186241149902,
          7.487642288208008,
          3.9203312397003174,
          4.008717060089111,
          6.437359809875488,
          7.099436283111572,
          6.6663970947265625,
          4.400221347808838,
          5.5524163246154785,
          6.0914082527160645
         ],
         "xaxis": "x",
         "y": [
          1.8780895471572876,
          2.6552183628082275,
          1.530020833015442,
          5.271921634674072,
          1.5371100902557373,
          2.7012569904327393,
          2.7412683963775635,
          1.978650450706482,
          2.6545889377593994,
          2.541727304458618,
          2.987959384918213,
          2.0126101970672607,
          1.5956090688705444,
          3.726069927215576,
          1.7420116662979126,
          1.6077896356582642,
          3.4434585571289062,
          2.686138153076172,
          2.8147053718566895,
          2.1087887287139893,
          2.629504680633545,
          2.162891387939453,
          3.281536340713501,
          0.23858538269996643,
          3.7511579990386963,
          1.0751405954360962,
          0.7501094341278076,
          3.0285720825195312,
          1.9293776750564575,
          1.766344428062439,
          0.39018601179122925,
          0.6829424500465393,
          2.3689119815826416,
          1.740981936454773,
          1.2790861129760742,
          1.4603772163391113,
          1.516422986984253,
          1.404599905014038,
          2.1745693683624268,
          2.194093942642212,
          2.986599922180176,
          2.766745090484619,
          2.827240467071533,
          2.09065842628479,
          1.8033313751220703,
          2.8191239833831787,
          2.6231000423431396,
          2.209930419921875,
          2.301084280014038,
          2.0865275859832764,
          3.3199331760406494,
          5.544975280761719,
          4.6863789558410645,
          5.919088840484619,
          5.673543930053711,
          5.7583723068237305,
          5.335131645202637,
          3.996609926223755,
          5.094442844390869,
          0.5837692022323608,
          4.571949005126953,
          4.749431133270264,
          3.416924476623535,
          4.532081604003906,
          4.806028842926025,
          1.3934904336929321,
          1.113218903541565,
          3.436333417892456,
          0.6056864261627197,
          0.5616980791091919,
          4.147132396697998,
          2.2384040355682373,
          3.2473955154418945,
          4.000730991363525,
          3.0522611141204834,
          1.6441843509674072,
          3.535503387451172,
          4.307729721069336,
          1.3432738780975342,
          2.2538204193115234,
          2.502269744873047,
          3.9488494396209717,
          3.162432909011841,
          1.784937858581543,
          3.4920051097869873,
          5.79529333114624,
          3.7439181804656982,
          3.1716506481170654,
          5.6305928230285645,
          0.4843326508998871,
          0.40330955386161804,
          2.8620734214782715,
          3.0178916454315186,
          3.114027500152588,
          2.5678858757019043,
          1.8081581592559814,
          1.9894165992736816,
          1.2562174797058105,
          1.6034890413284302,
          1.430923342704773,
          3.36910080909729,
          3.683274507522583,
          1.3097091913223267
         ],
         "yaxis": "y"
        }
       ],
       "layout": {
        "height": 8000,
        "legend": {
         "tracegroupgap": 0
        },
        "margin": {
         "t": 60
        },
        "template": {
         "data": {
          "bar": [
           {
            "error_x": {
             "color": "#2a3f5f"
            },
            "error_y": {
             "color": "#2a3f5f"
            },
            "marker": {
             "line": {
              "color": "#E5ECF6",
              "width": 0.5
             },
             "pattern": {
              "fillmode": "overlay",
              "size": 10,
              "solidity": 0.2
             }
            },
            "type": "bar"
           }
          ],
          "barpolar": [
           {
            "marker": {
             "line": {
              "color": "#E5ECF6",
              "width": 0.5
             },
             "pattern": {
              "fillmode": "overlay",
              "size": 10,
              "solidity": 0.2
             }
            },
            "type": "barpolar"
           }
          ],
          "carpet": [
           {
            "aaxis": {
             "endlinecolor": "#2a3f5f",
             "gridcolor": "white",
             "linecolor": "white",
             "minorgridcolor": "white",
             "startlinecolor": "#2a3f5f"
            },
            "baxis": {
             "endlinecolor": "#2a3f5f",
             "gridcolor": "white",
             "linecolor": "white",
             "minorgridcolor": "white",
             "startlinecolor": "#2a3f5f"
            },
            "type": "carpet"
           }
          ],
          "choropleth": [
           {
            "colorbar": {
             "outlinewidth": 0,
             "ticks": ""
            },
            "type": "choropleth"
           }
          ],
          "contour": [
           {
            "colorbar": {
             "outlinewidth": 0,
             "ticks": ""
            },
            "colorscale": [
             [
              0,
              "#0d0887"
             ],
             [
              0.1111111111111111,
              "#46039f"
             ],
             [
              0.2222222222222222,
              "#7201a8"
             ],
             [
              0.3333333333333333,
              "#9c179e"
             ],
             [
              0.4444444444444444,
              "#bd3786"
             ],
             [
              0.5555555555555556,
              "#d8576b"
             ],
             [
              0.6666666666666666,
              "#ed7953"
             ],
             [
              0.7777777777777778,
              "#fb9f3a"
             ],
             [
              0.8888888888888888,
              "#fdca26"
             ],
             [
              1,
              "#f0f921"
             ]
            ],
            "type": "contour"
           }
          ],
          "contourcarpet": [
           {
            "colorbar": {
             "outlinewidth": 0,
             "ticks": ""
            },
            "type": "contourcarpet"
           }
          ],
          "heatmap": [
           {
            "colorbar": {
             "outlinewidth": 0,
             "ticks": ""
            },
            "colorscale": [
             [
              0,
              "#0d0887"
             ],
             [
              0.1111111111111111,
              "#46039f"
             ],
             [
              0.2222222222222222,
              "#7201a8"
             ],
             [
              0.3333333333333333,
              "#9c179e"
             ],
             [
              0.4444444444444444,
              "#bd3786"
             ],
             [
              0.5555555555555556,
              "#d8576b"
             ],
             [
              0.6666666666666666,
              "#ed7953"
             ],
             [
              0.7777777777777778,
              "#fb9f3a"
             ],
             [
              0.8888888888888888,
              "#fdca26"
             ],
             [
              1,
              "#f0f921"
             ]
            ],
            "type": "heatmap"
           }
          ],
          "heatmapgl": [
           {
            "colorbar": {
             "outlinewidth": 0,
             "ticks": ""
            },
            "colorscale": [
             [
              0,
              "#0d0887"
             ],
             [
              0.1111111111111111,
              "#46039f"
             ],
             [
              0.2222222222222222,
              "#7201a8"
             ],
             [
              0.3333333333333333,
              "#9c179e"
             ],
             [
              0.4444444444444444,
              "#bd3786"
             ],
             [
              0.5555555555555556,
              "#d8576b"
             ],
             [
              0.6666666666666666,
              "#ed7953"
             ],
             [
              0.7777777777777778,
              "#fb9f3a"
             ],
             [
              0.8888888888888888,
              "#fdca26"
             ],
             [
              1,
              "#f0f921"
             ]
            ],
            "type": "heatmapgl"
           }
          ],
          "histogram": [
           {
            "marker": {
             "pattern": {
              "fillmode": "overlay",
              "size": 10,
              "solidity": 0.2
             }
            },
            "type": "histogram"
           }
          ],
          "histogram2d": [
           {
            "colorbar": {
             "outlinewidth": 0,
             "ticks": ""
            },
            "colorscale": [
             [
              0,
              "#0d0887"
             ],
             [
              0.1111111111111111,
              "#46039f"
             ],
             [
              0.2222222222222222,
              "#7201a8"
             ],
             [
              0.3333333333333333,
              "#9c179e"
             ],
             [
              0.4444444444444444,
              "#bd3786"
             ],
             [
              0.5555555555555556,
              "#d8576b"
             ],
             [
              0.6666666666666666,
              "#ed7953"
             ],
             [
              0.7777777777777778,
              "#fb9f3a"
             ],
             [
              0.8888888888888888,
              "#fdca26"
             ],
             [
              1,
              "#f0f921"
             ]
            ],
            "type": "histogram2d"
           }
          ],
          "histogram2dcontour": [
           {
            "colorbar": {
             "outlinewidth": 0,
             "ticks": ""
            },
            "colorscale": [
             [
              0,
              "#0d0887"
             ],
             [
              0.1111111111111111,
              "#46039f"
             ],
             [
              0.2222222222222222,
              "#7201a8"
             ],
             [
              0.3333333333333333,
              "#9c179e"
             ],
             [
              0.4444444444444444,
              "#bd3786"
             ],
             [
              0.5555555555555556,
              "#d8576b"
             ],
             [
              0.6666666666666666,
              "#ed7953"
             ],
             [
              0.7777777777777778,
              "#fb9f3a"
             ],
             [
              0.8888888888888888,
              "#fdca26"
             ],
             [
              1,
              "#f0f921"
             ]
            ],
            "type": "histogram2dcontour"
           }
          ],
          "mesh3d": [
           {
            "colorbar": {
             "outlinewidth": 0,
             "ticks": ""
            },
            "type": "mesh3d"
           }
          ],
          "parcoords": [
           {
            "line": {
             "colorbar": {
              "outlinewidth": 0,
              "ticks": ""
             }
            },
            "type": "parcoords"
           }
          ],
          "pie": [
           {
            "automargin": true,
            "type": "pie"
           }
          ],
          "scatter": [
           {
            "fillpattern": {
             "fillmode": "overlay",
             "size": 10,
             "solidity": 0.2
            },
            "type": "scatter"
           }
          ],
          "scatter3d": [
           {
            "line": {
             "colorbar": {
              "outlinewidth": 0,
              "ticks": ""
             }
            },
            "marker": {
             "colorbar": {
              "outlinewidth": 0,
              "ticks": ""
             }
            },
            "type": "scatter3d"
           }
          ],
          "scattercarpet": [
           {
            "marker": {
             "colorbar": {
              "outlinewidth": 0,
              "ticks": ""
             }
            },
            "type": "scattercarpet"
           }
          ],
          "scattergeo": [
           {
            "marker": {
             "colorbar": {
              "outlinewidth": 0,
              "ticks": ""
             }
            },
            "type": "scattergeo"
           }
          ],
          "scattergl": [
           {
            "marker": {
             "colorbar": {
              "outlinewidth": 0,
              "ticks": ""
             }
            },
            "type": "scattergl"
           }
          ],
          "scattermapbox": [
           {
            "marker": {
             "colorbar": {
              "outlinewidth": 0,
              "ticks": ""
             }
            },
            "type": "scattermapbox"
           }
          ],
          "scatterpolar": [
           {
            "marker": {
             "colorbar": {
              "outlinewidth": 0,
              "ticks": ""
             }
            },
            "type": "scatterpolar"
           }
          ],
          "scatterpolargl": [
           {
            "marker": {
             "colorbar": {
              "outlinewidth": 0,
              "ticks": ""
             }
            },
            "type": "scatterpolargl"
           }
          ],
          "scatterternary": [
           {
            "marker": {
             "colorbar": {
              "outlinewidth": 0,
              "ticks": ""
             }
            },
            "type": "scatterternary"
           }
          ],
          "surface": [
           {
            "colorbar": {
             "outlinewidth": 0,
             "ticks": ""
            },
            "colorscale": [
             [
              0,
              "#0d0887"
             ],
             [
              0.1111111111111111,
              "#46039f"
             ],
             [
              0.2222222222222222,
              "#7201a8"
             ],
             [
              0.3333333333333333,
              "#9c179e"
             ],
             [
              0.4444444444444444,
              "#bd3786"
             ],
             [
              0.5555555555555556,
              "#d8576b"
             ],
             [
              0.6666666666666666,
              "#ed7953"
             ],
             [
              0.7777777777777778,
              "#fb9f3a"
             ],
             [
              0.8888888888888888,
              "#fdca26"
             ],
             [
              1,
              "#f0f921"
             ]
            ],
            "type": "surface"
           }
          ],
          "table": [
           {
            "cells": {
             "fill": {
              "color": "#EBF0F8"
             },
             "line": {
              "color": "white"
             }
            },
            "header": {
             "fill": {
              "color": "#C8D4E3"
             },
             "line": {
              "color": "white"
             }
            },
            "type": "table"
           }
          ]
         },
         "layout": {
          "annotationdefaults": {
           "arrowcolor": "#2a3f5f",
           "arrowhead": 0,
           "arrowwidth": 1
          },
          "autotypenumbers": "strict",
          "coloraxis": {
           "colorbar": {
            "outlinewidth": 0,
            "ticks": ""
           }
          },
          "colorscale": {
           "diverging": [
            [
             0,
             "#8e0152"
            ],
            [
             0.1,
             "#c51b7d"
            ],
            [
             0.2,
             "#de77ae"
            ],
            [
             0.3,
             "#f1b6da"
            ],
            [
             0.4,
             "#fde0ef"
            ],
            [
             0.5,
             "#f7f7f7"
            ],
            [
             0.6,
             "#e6f5d0"
            ],
            [
             0.7,
             "#b8e186"
            ],
            [
             0.8,
             "#7fbc41"
            ],
            [
             0.9,
             "#4d9221"
            ],
            [
             1,
             "#276419"
            ]
           ],
           "sequential": [
            [
             0,
             "#0d0887"
            ],
            [
             0.1111111111111111,
             "#46039f"
            ],
            [
             0.2222222222222222,
             "#7201a8"
            ],
            [
             0.3333333333333333,
             "#9c179e"
            ],
            [
             0.4444444444444444,
             "#bd3786"
            ],
            [
             0.5555555555555556,
             "#d8576b"
            ],
            [
             0.6666666666666666,
             "#ed7953"
            ],
            [
             0.7777777777777778,
             "#fb9f3a"
            ],
            [
             0.8888888888888888,
             "#fdca26"
            ],
            [
             1,
             "#f0f921"
            ]
           ],
           "sequentialminus": [
            [
             0,
             "#0d0887"
            ],
            [
             0.1111111111111111,
             "#46039f"
            ],
            [
             0.2222222222222222,
             "#7201a8"
            ],
            [
             0.3333333333333333,
             "#9c179e"
            ],
            [
             0.4444444444444444,
             "#bd3786"
            ],
            [
             0.5555555555555556,
             "#d8576b"
            ],
            [
             0.6666666666666666,
             "#ed7953"
            ],
            [
             0.7777777777777778,
             "#fb9f3a"
            ],
            [
             0.8888888888888888,
             "#fdca26"
            ],
            [
             1,
             "#f0f921"
            ]
           ]
          },
          "colorway": [
           "#636efa",
           "#EF553B",
           "#00cc96",
           "#ab63fa",
           "#FFA15A",
           "#19d3f3",
           "#FF6692",
           "#B6E880",
           "#FF97FF",
           "#FECB52"
          ],
          "font": {
           "color": "#2a3f5f"
          },
          "geo": {
           "bgcolor": "white",
           "lakecolor": "white",
           "landcolor": "#E5ECF6",
           "showlakes": true,
           "showland": true,
           "subunitcolor": "white"
          },
          "hoverlabel": {
           "align": "left"
          },
          "hovermode": "closest",
          "mapbox": {
           "style": "light"
          },
          "paper_bgcolor": "white",
          "plot_bgcolor": "#E5ECF6",
          "polar": {
           "angularaxis": {
            "gridcolor": "white",
            "linecolor": "white",
            "ticks": ""
           },
           "bgcolor": "#E5ECF6",
           "radialaxis": {
            "gridcolor": "white",
            "linecolor": "white",
            "ticks": ""
           }
          },
          "scene": {
           "xaxis": {
            "backgroundcolor": "#E5ECF6",
            "gridcolor": "white",
            "gridwidth": 2,
            "linecolor": "white",
            "showbackground": true,
            "ticks": "",
            "zerolinecolor": "white"
           },
           "yaxis": {
            "backgroundcolor": "#E5ECF6",
            "gridcolor": "white",
            "gridwidth": 2,
            "linecolor": "white",
            "showbackground": true,
            "ticks": "",
            "zerolinecolor": "white"
           },
           "zaxis": {
            "backgroundcolor": "#E5ECF6",
            "gridcolor": "white",
            "gridwidth": 2,
            "linecolor": "white",
            "showbackground": true,
            "ticks": "",
            "zerolinecolor": "white"
           }
          },
          "shapedefaults": {
           "line": {
            "color": "#2a3f5f"
           }
          },
          "ternary": {
           "aaxis": {
            "gridcolor": "white",
            "linecolor": "white",
            "ticks": ""
           },
           "baxis": {
            "gridcolor": "white",
            "linecolor": "white",
            "ticks": ""
           },
           "bgcolor": "#E5ECF6",
           "caxis": {
            "gridcolor": "white",
            "linecolor": "white",
            "ticks": ""
           }
          },
          "title": {
           "x": 0.05
          },
          "xaxis": {
           "automargin": true,
           "gridcolor": "white",
           "linecolor": "white",
           "ticks": "",
           "title": {
            "standoff": 15
           },
           "zerolinecolor": "white",
           "zerolinewidth": 2
          },
          "yaxis": {
           "automargin": true,
           "gridcolor": "white",
           "linecolor": "white",
           "ticks": "",
           "title": {
            "standoff": 15
           },
           "zerolinecolor": "white",
           "zerolinewidth": 2
          }
         }
        },
        "title": {
         "text": "Reduced Word2Vec Visualization"
        },
        "xaxis": {
         "anchor": "y",
         "domain": [
          0,
          1
         ],
         "title": {
          "text": "umap1"
         }
        },
        "yaxis": {
         "anchor": "x",
         "domain": [
          0,
          1
         ],
         "title": {
          "text": "umap2"
         }
        }
       }
      }
     },
     "metadata": {},
     "output_type": "display_data"
    }
   ],
   "source": [
    "fig = px.scatter(df, x=\"umap1\" , y=\"umap2\", text=\"text\")\n",
    "fig.update_traces(textposition='top center')\n",
    "fig.update_layout(\n",
    "    height=8000,\n",
    "    title_text='Reduced Word2Vec Visualization'\n",
    ")\n",
    "fig.show()"
   ]
  }
 ],
 "metadata": {
  "kernelspec": {
   "display_name": "Python 3",
   "language": "python",
   "name": "python3"
  },
  "language_info": {
   "codemirror_mode": {
    "name": "ipython",
    "version": 3
   },
   "file_extension": ".py",
   "mimetype": "text/x-python",
   "name": "python",
   "nbconvert_exporter": "python",
   "pygments_lexer": "ipython3",
   "version": "3.11.2"
  }
 },
 "nbformat": 4,
 "nbformat_minor": 2
}
