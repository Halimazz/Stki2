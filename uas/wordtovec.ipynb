{
 "cells": [
  {
   "cell_type": "code",
   "execution_count": 1,
   "metadata": {},
   "outputs": [],
   "source": [
    "import os.path\n",
    "\n",
    "import pandas as pd\n",
    "from tqdm.auto import tqdm\n",
    "\n",
    "from nltk.tokenize import word_tokenize\n",
    "from gensim.models import Word2Vec\n"
   ]
  },
  {
   "cell_type": "code",
   "execution_count": null,
   "metadata": {},
   "outputs": [],
   "source": []
  },
  {
   "cell_type": "code",
   "execution_count": 2,
   "metadata": {},
   "outputs": [
    {
     "data": {
      "text/html": [
       "<div>\n",
       "<style scoped>\n",
       "    .dataframe tbody tr th:only-of-type {\n",
       "        vertical-align: middle;\n",
       "    }\n",
       "\n",
       "    .dataframe tbody tr th {\n",
       "        vertical-align: top;\n",
       "    }\n",
       "\n",
       "    .dataframe thead th {\n",
       "        text-align: right;\n",
       "    }\n",
       "</style>\n",
       "<table border=\"1\" class=\"dataframe\">\n",
       "  <thead>\n",
       "    <tr style=\"text-align: right;\">\n",
       "      <th></th>\n",
       "      <th>review</th>\n",
       "      <th>username</th>\n",
       "    </tr>\n",
       "  </thead>\n",
       "  <tbody>\n",
       "    <tr>\n",
       "      <th>0</th>\n",
       "      <td>Exco PSSI, Arya Sinulingga membantah kabar Pia...</td>\n",
       "      <td>most1058</td>\n",
       "    </tr>\n",
       "    <tr>\n",
       "      <th>1</th>\n",
       "      <td>@Paltiwest Lebih baik dipindah Piala Dunia U 2...</td>\n",
       "      <td>MangasiPanggab2</td>\n",
       "    </tr>\n",
       "    <tr>\n",
       "      <th>2</th>\n",
       "      <td>FIFA membatalkan drawing pembagian grup Piala ...</td>\n",
       "      <td>detiksport</td>\n",
       "    </tr>\n",
       "    <tr>\n",
       "      <th>3</th>\n",
       "      <td>@Dennysiregar7 Berarti tidak percaya komitmen ...</td>\n",
       "      <td>DaltonSembirin1</td>\n",
       "    </tr>\n",
       "    <tr>\n",
       "      <th>4</th>\n",
       "      <td>Caper, Baper, Tantrum dimana-mana, dan Cari Ga...</td>\n",
       "      <td>5kiOnD1splay</td>\n",
       "    </tr>\n",
       "  </tbody>\n",
       "</table>\n",
       "</div>"
      ],
      "text/plain": [
       "                                              review         username\n",
       "0  Exco PSSI, Arya Sinulingga membantah kabar Pia...         most1058\n",
       "1  @Paltiwest Lebih baik dipindah Piala Dunia U 2...  MangasiPanggab2\n",
       "2  FIFA membatalkan drawing pembagian grup Piala ...       detiksport\n",
       "3  @Dennysiregar7 Berarti tidak percaya komitmen ...  DaltonSembirin1\n",
       "4  Caper, Baper, Tantrum dimana-mana, dan Cari Ga...     5kiOnD1splay"
      ]
     },
     "execution_count": 2,
     "metadata": {},
     "output_type": "execute_result"
    }
   ],
   "source": [
    "df = pd.read_csv(\"data/piala3_review.csv\")\n",
    "df.head()"
   ]
  },
  {
   "cell_type": "code",
   "execution_count": 3,
   "metadata": {},
   "outputs": [
    {
     "name": "stderr",
     "output_type": "stream",
     "text": [
      "[nltk_data] Downloading package punkt to\n",
      "[nltk_data]     C:\\Users\\ASUS\\AppData\\Roaming\\nltk_data...\n",
      "[nltk_data]   Package punkt is already up-to-date!\n",
      "100%|██████████| 50/50 [00:00<00:00, 1086.07it/s]\n"
     ]
    },
    {
     "data": {
      "text/plain": [
       "['@',\n",
       " 'ekagud1',\n",
       " '@',\n",
       " 'sakitpe14248653',\n",
       " '@',\n",
       " 'adi_8002',\n",
       " 'yg',\n",
       " 'standar',\n",
       " 'ganda',\n",
       " 'itu',\n",
       " 'fifa',\n",
       " ',',\n",
       " 'aturan',\n",
       " 'nya',\n",
       " 'bisa',\n",
       " 'melakukan',\n",
       " 'pencoret',\n",
       " 'rusia',\n",
       " 'ikut',\n",
       " 'serta',\n",
       " 'piala',\n",
       " 'dunia',\n",
       " 'di',\n",
       " 'qatar',\n",
       " ',',\n",
       " 'tetapi',\n",
       " 'kenapa',\n",
       " 'pada',\n",
       " 'zionis',\n",
       " 'israel',\n",
       " 'fifa',\n",
       " 'tidak',\n",
       " 'mencoret',\n",
       " 'zionis',\n",
       " 'israel',\n",
       " 'ikut',\n",
       " 'piala',\n",
       " 'dunia',\n",
       " 'u-20',\n",
       " '...',\n",
       " 'yg',\n",
       " 'mana',\n",
       " 'sampai',\n",
       " 'sekarang',\n",
       " 'ini',\n",
       " 'zionis',\n",
       " 'israel',\n",
       " 'masih',\n",
       " 'menginvasi',\n",
       " 'palestina',\n",
       " '..']"
      ]
     },
     "execution_count": 3,
     "metadata": {},
     "output_type": "execute_result"
    }
   ],
   "source": [
    "from tqdm import tqdm\n",
    "from nltk.tokenize import word_tokenize\n",
    "import nltk\n",
    "nltk.download('punkt')\n",
    "kalimat = [word_tokenize(review.lower())for review in tqdm (df.review)]\n",
    "kalimat [5]"
   ]
  },
  {
   "cell_type": "code",
   "execution_count": 4,
   "metadata": {},
   "outputs": [],
   "source": [
    "from gensim.models import Word2Vec\n",
    "\n",
    "model = Word2Vec(kalimat, vector_size=128, window=5, min_count=3, workers=4, epochs=1000, sg=0, hs=0)\n"
   ]
  },
  {
   "cell_type": "markdown",
   "metadata": {},
   "source": [
    "Save"
   ]
  },
  {
   "cell_type": "code",
   "execution_count": 5,
   "metadata": {},
   "outputs": [],
   "source": [
    "os.makedirs(\"model/w2v\", exist_ok=True)"
   ]
  },
  {
   "cell_type": "code",
   "execution_count": 6,
   "metadata": {},
   "outputs": [],
   "source": [
    "model.save(\"model/w2v/piala3_review.w2v\")"
   ]
  },
  {
   "cell_type": "markdown",
   "metadata": {},
   "source": [
    "Load"
   ]
  },
  {
   "cell_type": "code",
   "execution_count": 7,
   "metadata": {},
   "outputs": [],
   "source": [
    "model = Word2Vec.load(\"model/w2v/piala3_review.w2v\")"
   ]
  },
  {
   "cell_type": "code",
   "execution_count": 8,
   "metadata": {},
   "outputs": [
    {
     "data": {
      "text/plain": [
       "['membantah', 'kabar', 'piala', 'dunia', 'u-20', '2023']"
      ]
     },
     "execution_count": 8,
     "metadata": {},
     "output_type": "execute_result"
    }
   ],
   "source": [
    "\"Membantah kabar Piala Dunia U-20 2023 \".lower().split()"
   ]
  },
  {
   "cell_type": "code",
   "execution_count": 9,
   "metadata": {},
   "outputs": [],
   "source": [
    "contoh_data = [\n",
    "    ['lebih', 'baik', 'israel', 'tidak', 'usah', 'datang', 'karena', 'mereka', 'kejam'],\n",
    "    ['silahkan', 'israel', 'datang', 'saja', 'karena', 'tidak', 'ada', 'hubunganya', 'antara', 'politik']\n",
    "]\n"
   ]
  },
  {
   "cell_type": "code",
   "execution_count": 12,
   "metadata": {},
   "outputs": [
    {
     "data": {
      "text/plain": [
       "(5, 19)"
      ]
     },
     "execution_count": 12,
     "metadata": {},
     "output_type": "execute_result"
    }
   ],
   "source": [
    "model.train(contoh_data, total_examples=len(contoh_data), epochs=1)"
   ]
  },
  {
   "cell_type": "code",
   "execution_count": 13,
   "metadata": {},
   "outputs": [],
   "source": [
    "model.save(\"model/w2v/piala3_review.w2v\")"
   ]
  },
  {
   "cell_type": "markdown",
   "metadata": {},
   "source": [
    "Model Information"
   ]
  },
  {
   "cell_type": "code",
   "execution_count": 14,
   "metadata": {},
   "outputs": [],
   "source": [
    "w2v = model.wv"
   ]
  },
  {
   "cell_type": "code",
   "execution_count": 15,
   "metadata": {},
   "outputs": [
    {
     "name": "stdout",
     "output_type": "stream",
     "text": [
      "dunia\n",
      "piala\n",
      "u-20\n",
      "#\n",
      ",\n",
      ":\n",
      "https\n",
      "indonesia\n",
      "di\n",
      ".\n",
      "israel\n",
      "2023\n",
      "fifa\n",
      "@\n",
      "drawing\n",
      "batal\n",
      "yang\n",
      "dan\n",
      "rumah\n",
      "tetap\n",
      "tuan\n",
      "bali\n",
      "timnas\n",
      "yg\n",
      "dalam\n",
      "bisa\n",
      "kita\n",
      "pssi\n",
      "ke\n",
      "shin\n",
      "tidak\n",
      "untuk\n",
      "dari\n",
      "pada\n",
      "?\n",
      "tae-yong\n",
      "digelar\n",
      "ini\n",
      "(\n",
      ")\n",
      "pembatalan\n",
      "jadi\n",
      "inspeksi\n",
      "tersebut\n",
      "grup\n",
      "penolakan\n",
      "siap\n",
      "...\n",
      "harus\n",
      "ada\n",
      "tolak\n",
      "panglimasgn\n",
      "''\n",
      "wagubjateng\n",
      "tajyasin\n",
      "santrigayengnusantara\n",
      "gusyasin\n",
      "terkait\n",
      "tanpa\n",
      "juga\n",
      "u20worldcupbolacom\n",
      "u20worldcupkly\n",
      "meski\n",
      "agar\n",
      "u20worldcupemtek\n",
      "dibatalkan\n",
      "berharap\n",
      "via\n",
      "itu\n",
      "ikut\n",
      "gubernur\n",
      "soal\n",
      "isu\n",
      "tengah\n",
      "peru\n",
      "kabar\n",
      "buzer\n",
      "ganjar\n",
      "apalagi\n",
      "ajang\n",
      "muncul\n",
      "akan\n",
      "stadion-stadion\n",
      "politik\n",
      "viral_sumsel\n",
      "tajyasinmz\n",
      "u\n",
      "&\n",
      "komitmen\n",
      "zionis\n",
      "mana\n",
      "olahraga\n",
      "masih\n",
      "tim\n",
      "sejumlah\n",
      "nasib\n",
      "gelisah\n",
      "saya\n",
      "bahwa\n",
      "sanksi\n",
      "gt\n",
      "20\n",
      "terlaksana\n"
     ]
    }
   ],
   "source": [
    "\n",
    "word_list = w2v.index_to_key\n",
    "# Menampilkan vocabulary\n",
    "for word in word_list:\n",
    "    print(word)"
   ]
  },
  {
   "cell_type": "code",
   "execution_count": 16,
   "metadata": {},
   "outputs": [
    {
     "data": {
      "text/plain": [
       "array([[ 0.5531148 ,  0.6962436 ,  0.2701573 , ...,  0.00856261,\n",
       "         0.07314768, -0.36069176],\n",
       "       [ 0.1287749 ,  0.9125121 ,  0.07890399, ..., -0.31337413,\n",
       "        -0.027946  , -0.6802362 ],\n",
       "       [ 0.25298822,  0.10076859, -0.6564179 , ...,  0.25916213,\n",
       "         0.00255995, -0.16377883],\n",
       "       ...,\n",
       "       [-0.1479277 , -1.7089856 ,  1.0469415 , ...,  0.23608615,\n",
       "         0.07770804,  0.99411756],\n",
       "       [-0.6317804 , -0.71352845, -0.47327286, ...,  0.8580213 ,\n",
       "        -0.09544148,  0.29810795],\n",
       "       [-0.2276707 ,  1.4742332 , -1.0667177 , ...,  1.6959739 ,\n",
       "        -0.38239786,  0.247958  ]], dtype=float32)"
      ]
     },
     "execution_count": 16,
     "metadata": {},
     "output_type": "execute_result"
    }
   ],
   "source": [
    "w2v.vectors"
   ]
  },
  {
   "cell_type": "code",
   "execution_count": 17,
   "metadata": {},
   "outputs": [
    {
     "data": {
      "text/plain": [
       "128"
      ]
     },
     "execution_count": 17,
     "metadata": {},
     "output_type": "execute_result"
    }
   ],
   "source": [
    "w2v.vector_size"
   ]
  },
  {
   "cell_type": "code",
   "execution_count": 22,
   "metadata": {},
   "outputs": [
    {
     "data": {
      "text/plain": [
       "array([ 7.31420755e-01,  3.94748837e-01,  5.03591478e-01, -5.08320630e-01,\n",
       "        3.22001845e-01, -1.27219647e-01, -8.39466691e-01,  8.26408267e-02,\n",
       "        6.24906063e-01,  7.49562025e-01, -1.08025122e+00,  5.25415599e-01,\n",
       "       -7.47290194e-01, -7.58399189e-01,  7.18039751e-01, -5.78827485e-02,\n",
       "        1.24861658e+00, -1.19587937e-02,  8.85445118e-01,  7.30270028e-01,\n",
       "        4.36496317e-01, -1.33518223e-02, -5.89798465e-02,  4.51654196e-01,\n",
       "        3.47152017e-02,  7.91735530e-01,  9.95234847e-01,  1.93297550e-01,\n",
       "        7.03478396e-01,  4.20920283e-01, -1.29097193e-01, -1.04543395e-01,\n",
       "       -3.52460414e-01,  4.53963220e-01, -8.18887234e-01,  5.14444746e-02,\n",
       "        6.65265471e-02, -8.94445926e-02,  5.17998874e-01,  2.45786145e-01,\n",
       "       -1.69525051e+00,  5.45253873e-01, -1.02836716e+00, -5.01027465e-01,\n",
       "        2.76655227e-01, -5.59192836e-01,  8.00974011e-01, -2.19371825e-01,\n",
       "       -4.96881962e-01, -1.13705552e+00, -6.80280447e-01, -1.42083347e-01,\n",
       "       -9.45378840e-01,  1.89709291e-01,  3.99365634e-01,  4.33497697e-01,\n",
       "       -2.03312218e-01,  1.67654753e-01, -3.15554082e-01, -1.09004509e+00,\n",
       "        9.28068340e-01,  6.24665543e-02,  5.62648475e-01, -2.74789840e-01,\n",
       "        1.23336780e+00, -4.49255109e-01,  5.65827370e-01, -2.43692264e-01,\n",
       "       -1.10951059e-01, -6.10653996e-01,  1.29213668e-02,  3.43866438e-01,\n",
       "        3.33011389e-01,  2.03383625e-01, -3.66203487e-01,  1.08978474e+00,\n",
       "       -4.30136621e-01,  1.20068097e+00, -2.63957828e-01, -5.43204367e-01,\n",
       "       -2.85969108e-01,  9.73909870e-02, -4.79863167e-01, -4.12327558e-01,\n",
       "       -4.15334582e-01,  6.82962716e-01,  2.57781208e-01, -8.69525254e-01,\n",
       "        3.82228196e-01,  2.80299932e-01, -9.36500788e-01,  2.23681971e-01,\n",
       "       -1.06860586e-01, -2.46982515e-01,  3.78342390e-01, -1.10895559e-01,\n",
       "       -3.89560878e-01, -8.28854740e-01,  1.28244007e+00, -8.83232474e-01,\n",
       "       -4.75654572e-01,  4.28010464e-01,  1.04542422e+00, -1.43612863e-03,\n",
       "       -1.16226923e+00, -9.16067511e-02, -1.29728937e+00, -1.15888572e+00,\n",
       "        8.51167887e-02, -6.11583829e-01, -6.19635463e-01, -9.01214242e-01,\n",
       "       -2.27081850e-01, -1.12593565e-02, -1.18444718e-01,  2.33075112e-01,\n",
       "       -8.31793100e-02, -5.25531292e-01, -6.00216568e-01,  1.84629753e-01,\n",
       "       -7.84869134e-01,  5.06396824e-03,  4.97601360e-01, -4.31625485e-01,\n",
       "       -7.78384581e-02,  2.42909715e-01, -6.63045347e-01,  9.58027467e-02],\n",
       "      dtype=float32)"
      ]
     },
     "execution_count": 22,
     "metadata": {},
     "output_type": "execute_result"
    }
   ],
   "source": [
    "w2v[\"pssi\"]"
   ]
  },
  {
   "cell_type": "markdown",
   "metadata": {},
   "source": [
    "simillar word"
   ]
  },
  {
   "cell_type": "code",
   "execution_count": 23,
   "metadata": {},
   "outputs": [
    {
     "data": {
      "text/plain": [
       "[('panglimasgn', 0.3929929733276367),\n",
       " ('gusyasin', 0.36289602518081665),\n",
       " ('tengah', 0.35989949107170105),\n",
       " ('tim', 0.3564263880252838),\n",
       " ('tajyasin', 0.34134820103645325)]"
      ]
     },
     "execution_count": 23,
     "metadata": {},
     "output_type": "execute_result"
    }
   ],
   "source": [
    "w2v.similar_by_word(\"israel\", topn=5)"
   ]
  },
  {
   "cell_type": "code",
   "execution_count": 24,
   "metadata": {},
   "outputs": [],
   "source": [
    "from umap import UMAP\n",
    "import numpy as np\n",
    "import pandas as pd\n",
    "import plotly.express as px"
   ]
  },
  {
   "cell_type": "code",
   "execution_count": 25,
   "metadata": {},
   "outputs": [],
   "source": [
    "X = UMAP().fit_transform(w2v.vectors)"
   ]
  },
  {
   "cell_type": "code",
   "execution_count": 26,
   "metadata": {},
   "outputs": [],
   "source": [
    "df = pd.DataFrame(X, columns=[\"umap1\",\"umap2\"])\n",
    "df[\"text\"] = w2v.index_to_key"
   ]
  },
  {
   "cell_type": "code",
   "execution_count": 27,
   "metadata": {},
   "outputs": [
    {
     "data": {
      "text/html": [
       "<div>\n",
       "<style scoped>\n",
       "    .dataframe tbody tr th:only-of-type {\n",
       "        vertical-align: middle;\n",
       "    }\n",
       "\n",
       "    .dataframe tbody tr th {\n",
       "        vertical-align: top;\n",
       "    }\n",
       "\n",
       "    .dataframe thead th {\n",
       "        text-align: right;\n",
       "    }\n",
       "</style>\n",
       "<table border=\"1\" class=\"dataframe\">\n",
       "  <thead>\n",
       "    <tr style=\"text-align: right;\">\n",
       "      <th></th>\n",
       "      <th>umap1</th>\n",
       "      <th>umap2</th>\n",
       "      <th>text</th>\n",
       "    </tr>\n",
       "  </thead>\n",
       "  <tbody>\n",
       "    <tr>\n",
       "      <th>0</th>\n",
       "      <td>-3.746343</td>\n",
       "      <td>5.678113</td>\n",
       "      <td>dunia</td>\n",
       "    </tr>\n",
       "    <tr>\n",
       "      <th>1</th>\n",
       "      <td>-3.924929</td>\n",
       "      <td>5.608469</td>\n",
       "      <td>piala</td>\n",
       "    </tr>\n",
       "    <tr>\n",
       "      <th>2</th>\n",
       "      <td>-4.027645</td>\n",
       "      <td>5.451437</td>\n",
       "      <td>u-20</td>\n",
       "    </tr>\n",
       "    <tr>\n",
       "      <th>3</th>\n",
       "      <td>-2.899777</td>\n",
       "      <td>8.422223</td>\n",
       "      <td>#</td>\n",
       "    </tr>\n",
       "    <tr>\n",
       "      <th>4</th>\n",
       "      <td>-4.111283</td>\n",
       "      <td>5.665644</td>\n",
       "      <td>,</td>\n",
       "    </tr>\n",
       "    <tr>\n",
       "      <th>...</th>\n",
       "      <td>...</td>\n",
       "      <td>...</td>\n",
       "      <td>...</td>\n",
       "    </tr>\n",
       "    <tr>\n",
       "      <th>98</th>\n",
       "      <td>-5.131761</td>\n",
       "      <td>5.676667</td>\n",
       "      <td>bahwa</td>\n",
       "    </tr>\n",
       "    <tr>\n",
       "      <th>99</th>\n",
       "      <td>-5.377673</td>\n",
       "      <td>5.386843</td>\n",
       "      <td>sanksi</td>\n",
       "    </tr>\n",
       "    <tr>\n",
       "      <th>100</th>\n",
       "      <td>-3.634762</td>\n",
       "      <td>3.836088</td>\n",
       "      <td>gt</td>\n",
       "    </tr>\n",
       "    <tr>\n",
       "      <th>101</th>\n",
       "      <td>-1.793241</td>\n",
       "      <td>5.709787</td>\n",
       "      <td>20</td>\n",
       "    </tr>\n",
       "    <tr>\n",
       "      <th>102</th>\n",
       "      <td>-3.891227</td>\n",
       "      <td>5.018227</td>\n",
       "      <td>terlaksana</td>\n",
       "    </tr>\n",
       "  </tbody>\n",
       "</table>\n",
       "<p>103 rows × 3 columns</p>\n",
       "</div>"
      ],
      "text/plain": [
       "        umap1     umap2        text\n",
       "0   -3.746343  5.678113       dunia\n",
       "1   -3.924929  5.608469       piala\n",
       "2   -4.027645  5.451437        u-20\n",
       "3   -2.899777  8.422223           #\n",
       "4   -4.111283  5.665644           ,\n",
       "..        ...       ...         ...\n",
       "98  -5.131761  5.676667       bahwa\n",
       "99  -5.377673  5.386843      sanksi\n",
       "100 -3.634762  3.836088          gt\n",
       "101 -1.793241  5.709787          20\n",
       "102 -3.891227  5.018227  terlaksana\n",
       "\n",
       "[103 rows x 3 columns]"
      ]
     },
     "execution_count": 27,
     "metadata": {},
     "output_type": "execute_result"
    }
   ],
   "source": [
    "df"
   ]
  },
  {
   "cell_type": "code",
   "execution_count": 28,
   "metadata": {},
   "outputs": [
    {
     "data": {
      "application/vnd.plotly.v1+json": {
       "config": {
        "plotlyServerURL": "https://plot.ly"
       },
       "data": [
        {
         "hovertemplate": "umap1=%{x}<br>umap2=%{y}<br>text=%{text}<extra></extra>",
         "legendgroup": "",
         "marker": {
          "color": "#636efa",
          "symbol": "circle"
         },
         "mode": "markers+text",
         "name": "",
         "orientation": "v",
         "showlegend": false,
         "text": [
          "dunia",
          "piala",
          "u-20",
          "#",
          ",",
          ":",
          "https",
          "indonesia",
          "di",
          ".",
          "israel",
          "2023",
          "fifa",
          "@",
          "drawing",
          "batal",
          "yang",
          "dan",
          "rumah",
          "tetap",
          "tuan",
          "bali",
          "timnas",
          "yg",
          "dalam",
          "bisa",
          "kita",
          "pssi",
          "ke",
          "shin",
          "tidak",
          "untuk",
          "dari",
          "pada",
          "?",
          "tae-yong",
          "digelar",
          "ini",
          "(",
          ")",
          "pembatalan",
          "jadi",
          "inspeksi",
          "tersebut",
          "grup",
          "penolakan",
          "siap",
          "...",
          "harus",
          "ada",
          "tolak",
          "panglimasgn",
          "''",
          "wagubjateng",
          "tajyasin",
          "santrigayengnusantara",
          "gusyasin",
          "terkait",
          "tanpa",
          "juga",
          "u20worldcupbolacom",
          "u20worldcupkly",
          "meski",
          "agar",
          "u20worldcupemtek",
          "dibatalkan",
          "berharap",
          "via",
          "itu",
          "ikut",
          "gubernur",
          "soal",
          "isu",
          "tengah",
          "peru",
          "kabar",
          "buzer",
          "ganjar",
          "apalagi",
          "ajang",
          "muncul",
          "akan",
          "stadion-stadion",
          "politik",
          "viral_sumsel",
          "tajyasinmz",
          "u",
          "&",
          "komitmen",
          "zionis",
          "mana",
          "olahraga",
          "masih",
          "tim",
          "sejumlah",
          "nasib",
          "gelisah",
          "saya",
          "bahwa",
          "sanksi",
          "gt",
          "20",
          "terlaksana"
         ],
         "textposition": "top center",
         "type": "scatter",
         "x": [
          -3.7463431358337402,
          -3.924929141998291,
          -4.027645111083984,
          -2.8997771739959717,
          -4.111282825469971,
          -3.1744329929351807,
          -2.9890570640563965,
          -3.5297629833221436,
          -4.114107131958008,
          -3.9854190349578857,
          -4.195326328277588,
          -3.6588597297668457,
          -4.197360515594482,
          -2.4310057163238525,
          -3.4837002754211426,
          -3.6196341514587402,
          -4.965922832489014,
          -4.426745891571045,
          -5.29036283493042,
          -4.182591438293457,
          -5.149878978729248,
          -4.232207775115967,
          -4.270267009735107,
          -3.4357919692993164,
          -4.568150997161865,
          -3.6238317489624023,
          -3.092148542404175,
          -4.9325666427612305,
          -4.4219512939453125,
          -2.5675971508026123,
          -3.4611144065856934,
          -2.779116153717041,
          -4.484002113342285,
          -4.471764087677002,
          -3.218839645385742,
          -2.619410753250122,
          -4.029244899749756,
          -5.433772087097168,
          -4.533693790435791,
          -4.432906150817871,
          -4.589686870574951,
          -5.042710781097412,
          -3.182750940322876,
          -3.8597629070281982,
          -4.352817535400391,
          -5.6736836433410645,
          -5.008861541748047,
          -4.913133144378662,
          -5.142741680145264,
          -4.356172561645508,
          -3.816711664199829,
          -3.232248306274414,
          -2.1170811653137207,
          -2.869663715362549,
          -3.042297124862671,
          -3.1177494525909424,
          -3.507284641265869,
          -4.9894700050354,
          -3.7827200889587402,
          -2.967378854751587,
          -2.2094290256500244,
          -2.24539852142334,
          -2.8888044357299805,
          -4.1079607009887695,
          -2.1583633422851562,
          -2.919154167175293,
          -3.1710197925567627,
          -2.6100564002990723,
          -3.169386863708496,
          -3.497258424758911,
          -5.135232925415039,
          -2.2288382053375244,
          -4.719301223754883,
          -5.238415241241455,
          -4.858163356781006,
          -3.005282402038574,
          -1.878326654434204,
          -4.8371124267578125,
          -2.888298749923706,
          -4.346813201904297,
          -3.6316545009613037,
          -4.513540744781494,
          -2.8015553951263428,
          -5.538331508636475,
          -2.476973533630371,
          -2.7698471546173096,
          -1.7487397193908691,
          -3.6940042972564697,
          -3.2559261322021484,
          -3.573288679122925,
          -3.3848190307617188,
          -5.256030082702637,
          -4.9060444831848145,
          -5.496166229248047,
          -5.681911468505859,
          -2.602971315383911,
          -2.518899440765381,
          -3.719118118286133,
          -5.131761074066162,
          -5.377673149108887,
          -3.6347615718841553,
          -1.793241262435913,
          -3.8912274837493896
         ],
         "xaxis": "x",
         "y": [
          5.678112983703613,
          5.608468532562256,
          5.451436519622803,
          8.422223091125488,
          5.66564416885376,
          4.525674343109131,
          4.794625282287598,
          5.969878673553467,
          6.624334335327148,
          6.289677619934082,
          7.041000843048096,
          5.6746745109558105,
          5.2504658699035645,
          4.333470344543457,
          5.037060260772705,
          5.039859771728516,
          7.200541019439697,
          6.864923000335693,
          4.718021869659424,
          6.006389141082764,
          4.656233787536621,
          4.603474140167236,
          7.024489879608154,
          7.234164237976074,
          7.470587730407715,
          6.548267364501953,
          6.790487289428711,
          5.725464344024658,
          5.700106620788574,
          5.880330562591553,
          7.023462295532227,
          6.289210319519043,
          6.122102737426758,
          5.215185642242432,
          5.2286176681518555,
          5.829126358032227,
          5.032503128051758,
          5.90046501159668,
          6.466008186340332,
          6.402681350708008,
          4.369626522064209,
          4.526485443115234,
          4.0300374031066895,
          5.953282833099365,
          4.666263103485107,
          6.7794718742370605,
          4.94623327255249,
          6.645226001739502,
          5.169086456298828,
          5.990641117095947,
          4.0039472579956055,
          8.646883010864258,
          7.102731227874756,
          8.903539657592773,
          8.827610969543457,
          8.824820518493652,
          8.530126571655273,
          7.951528072357178,
          8.345391273498535,
          6.60807466506958,
          7.342516899108887,
          7.353468894958496,
          3.8913469314575195,
          8.004461288452148,
          7.264713764190674,
          5.615052700042725,
          5.986628532409668,
          4.005157947540283,
          6.400634765625,
          6.920886993408203,
          7.825525283813477,
          5.020499229431152,
          7.215414524078369,
          7.760074138641357,
          5.856957912445068,
          5.683948516845703,
          5.411252975463867,
          8.08952808380127,
          6.022619724273682,
          5.526880264282227,
          4.496855735778809,
          7.72888708114624,
          3.955334424972534,
          6.185986518859863,
          4.18929386138916,
          8.79372787475586,
          5.693277835845947,
          3.9254038333892822,
          8.16845417022705,
          6.855676651000977,
          7.292947292327881,
          6.8847479820251465,
          6.406169414520264,
          7.141238689422607,
          6.476207733154297,
          5.169378757476807,
          5.179706573486328,
          6.06898832321167,
          5.676667213439941,
          5.386842727661133,
          3.836087942123413,
          5.709787368774414,
          5.018226623535156
         ],
         "yaxis": "y"
        }
       ],
       "layout": {
        "height": 8000,
        "legend": {
         "tracegroupgap": 0
        },
        "margin": {
         "t": 60
        },
        "template": {
         "data": {
          "bar": [
           {
            "error_x": {
             "color": "#2a3f5f"
            },
            "error_y": {
             "color": "#2a3f5f"
            },
            "marker": {
             "line": {
              "color": "#E5ECF6",
              "width": 0.5
             },
             "pattern": {
              "fillmode": "overlay",
              "size": 10,
              "solidity": 0.2
             }
            },
            "type": "bar"
           }
          ],
          "barpolar": [
           {
            "marker": {
             "line": {
              "color": "#E5ECF6",
              "width": 0.5
             },
             "pattern": {
              "fillmode": "overlay",
              "size": 10,
              "solidity": 0.2
             }
            },
            "type": "barpolar"
           }
          ],
          "carpet": [
           {
            "aaxis": {
             "endlinecolor": "#2a3f5f",
             "gridcolor": "white",
             "linecolor": "white",
             "minorgridcolor": "white",
             "startlinecolor": "#2a3f5f"
            },
            "baxis": {
             "endlinecolor": "#2a3f5f",
             "gridcolor": "white",
             "linecolor": "white",
             "minorgridcolor": "white",
             "startlinecolor": "#2a3f5f"
            },
            "type": "carpet"
           }
          ],
          "choropleth": [
           {
            "colorbar": {
             "outlinewidth": 0,
             "ticks": ""
            },
            "type": "choropleth"
           }
          ],
          "contour": [
           {
            "colorbar": {
             "outlinewidth": 0,
             "ticks": ""
            },
            "colorscale": [
             [
              0,
              "#0d0887"
             ],
             [
              0.1111111111111111,
              "#46039f"
             ],
             [
              0.2222222222222222,
              "#7201a8"
             ],
             [
              0.3333333333333333,
              "#9c179e"
             ],
             [
              0.4444444444444444,
              "#bd3786"
             ],
             [
              0.5555555555555556,
              "#d8576b"
             ],
             [
              0.6666666666666666,
              "#ed7953"
             ],
             [
              0.7777777777777778,
              "#fb9f3a"
             ],
             [
              0.8888888888888888,
              "#fdca26"
             ],
             [
              1,
              "#f0f921"
             ]
            ],
            "type": "contour"
           }
          ],
          "contourcarpet": [
           {
            "colorbar": {
             "outlinewidth": 0,
             "ticks": ""
            },
            "type": "contourcarpet"
           }
          ],
          "heatmap": [
           {
            "colorbar": {
             "outlinewidth": 0,
             "ticks": ""
            },
            "colorscale": [
             [
              0,
              "#0d0887"
             ],
             [
              0.1111111111111111,
              "#46039f"
             ],
             [
              0.2222222222222222,
              "#7201a8"
             ],
             [
              0.3333333333333333,
              "#9c179e"
             ],
             [
              0.4444444444444444,
              "#bd3786"
             ],
             [
              0.5555555555555556,
              "#d8576b"
             ],
             [
              0.6666666666666666,
              "#ed7953"
             ],
             [
              0.7777777777777778,
              "#fb9f3a"
             ],
             [
              0.8888888888888888,
              "#fdca26"
             ],
             [
              1,
              "#f0f921"
             ]
            ],
            "type": "heatmap"
           }
          ],
          "heatmapgl": [
           {
            "colorbar": {
             "outlinewidth": 0,
             "ticks": ""
            },
            "colorscale": [
             [
              0,
              "#0d0887"
             ],
             [
              0.1111111111111111,
              "#46039f"
             ],
             [
              0.2222222222222222,
              "#7201a8"
             ],
             [
              0.3333333333333333,
              "#9c179e"
             ],
             [
              0.4444444444444444,
              "#bd3786"
             ],
             [
              0.5555555555555556,
              "#d8576b"
             ],
             [
              0.6666666666666666,
              "#ed7953"
             ],
             [
              0.7777777777777778,
              "#fb9f3a"
             ],
             [
              0.8888888888888888,
              "#fdca26"
             ],
             [
              1,
              "#f0f921"
             ]
            ],
            "type": "heatmapgl"
           }
          ],
          "histogram": [
           {
            "marker": {
             "pattern": {
              "fillmode": "overlay",
              "size": 10,
              "solidity": 0.2
             }
            },
            "type": "histogram"
           }
          ],
          "histogram2d": [
           {
            "colorbar": {
             "outlinewidth": 0,
             "ticks": ""
            },
            "colorscale": [
             [
              0,
              "#0d0887"
             ],
             [
              0.1111111111111111,
              "#46039f"
             ],
             [
              0.2222222222222222,
              "#7201a8"
             ],
             [
              0.3333333333333333,
              "#9c179e"
             ],
             [
              0.4444444444444444,
              "#bd3786"
             ],
             [
              0.5555555555555556,
              "#d8576b"
             ],
             [
              0.6666666666666666,
              "#ed7953"
             ],
             [
              0.7777777777777778,
              "#fb9f3a"
             ],
             [
              0.8888888888888888,
              "#fdca26"
             ],
             [
              1,
              "#f0f921"
             ]
            ],
            "type": "histogram2d"
           }
          ],
          "histogram2dcontour": [
           {
            "colorbar": {
             "outlinewidth": 0,
             "ticks": ""
            },
            "colorscale": [
             [
              0,
              "#0d0887"
             ],
             [
              0.1111111111111111,
              "#46039f"
             ],
             [
              0.2222222222222222,
              "#7201a8"
             ],
             [
              0.3333333333333333,
              "#9c179e"
             ],
             [
              0.4444444444444444,
              "#bd3786"
             ],
             [
              0.5555555555555556,
              "#d8576b"
             ],
             [
              0.6666666666666666,
              "#ed7953"
             ],
             [
              0.7777777777777778,
              "#fb9f3a"
             ],
             [
              0.8888888888888888,
              "#fdca26"
             ],
             [
              1,
              "#f0f921"
             ]
            ],
            "type": "histogram2dcontour"
           }
          ],
          "mesh3d": [
           {
            "colorbar": {
             "outlinewidth": 0,
             "ticks": ""
            },
            "type": "mesh3d"
           }
          ],
          "parcoords": [
           {
            "line": {
             "colorbar": {
              "outlinewidth": 0,
              "ticks": ""
             }
            },
            "type": "parcoords"
           }
          ],
          "pie": [
           {
            "automargin": true,
            "type": "pie"
           }
          ],
          "scatter": [
           {
            "fillpattern": {
             "fillmode": "overlay",
             "size": 10,
             "solidity": 0.2
            },
            "type": "scatter"
           }
          ],
          "scatter3d": [
           {
            "line": {
             "colorbar": {
              "outlinewidth": 0,
              "ticks": ""
             }
            },
            "marker": {
             "colorbar": {
              "outlinewidth": 0,
              "ticks": ""
             }
            },
            "type": "scatter3d"
           }
          ],
          "scattercarpet": [
           {
            "marker": {
             "colorbar": {
              "outlinewidth": 0,
              "ticks": ""
             }
            },
            "type": "scattercarpet"
           }
          ],
          "scattergeo": [
           {
            "marker": {
             "colorbar": {
              "outlinewidth": 0,
              "ticks": ""
             }
            },
            "type": "scattergeo"
           }
          ],
          "scattergl": [
           {
            "marker": {
             "colorbar": {
              "outlinewidth": 0,
              "ticks": ""
             }
            },
            "type": "scattergl"
           }
          ],
          "scattermapbox": [
           {
            "marker": {
             "colorbar": {
              "outlinewidth": 0,
              "ticks": ""
             }
            },
            "type": "scattermapbox"
           }
          ],
          "scatterpolar": [
           {
            "marker": {
             "colorbar": {
              "outlinewidth": 0,
              "ticks": ""
             }
            },
            "type": "scatterpolar"
           }
          ],
          "scatterpolargl": [
           {
            "marker": {
             "colorbar": {
              "outlinewidth": 0,
              "ticks": ""
             }
            },
            "type": "scatterpolargl"
           }
          ],
          "scatterternary": [
           {
            "marker": {
             "colorbar": {
              "outlinewidth": 0,
              "ticks": ""
             }
            },
            "type": "scatterternary"
           }
          ],
          "surface": [
           {
            "colorbar": {
             "outlinewidth": 0,
             "ticks": ""
            },
            "colorscale": [
             [
              0,
              "#0d0887"
             ],
             [
              0.1111111111111111,
              "#46039f"
             ],
             [
              0.2222222222222222,
              "#7201a8"
             ],
             [
              0.3333333333333333,
              "#9c179e"
             ],
             [
              0.4444444444444444,
              "#bd3786"
             ],
             [
              0.5555555555555556,
              "#d8576b"
             ],
             [
              0.6666666666666666,
              "#ed7953"
             ],
             [
              0.7777777777777778,
              "#fb9f3a"
             ],
             [
              0.8888888888888888,
              "#fdca26"
             ],
             [
              1,
              "#f0f921"
             ]
            ],
            "type": "surface"
           }
          ],
          "table": [
           {
            "cells": {
             "fill": {
              "color": "#EBF0F8"
             },
             "line": {
              "color": "white"
             }
            },
            "header": {
             "fill": {
              "color": "#C8D4E3"
             },
             "line": {
              "color": "white"
             }
            },
            "type": "table"
           }
          ]
         },
         "layout": {
          "annotationdefaults": {
           "arrowcolor": "#2a3f5f",
           "arrowhead": 0,
           "arrowwidth": 1
          },
          "autotypenumbers": "strict",
          "coloraxis": {
           "colorbar": {
            "outlinewidth": 0,
            "ticks": ""
           }
          },
          "colorscale": {
           "diverging": [
            [
             0,
             "#8e0152"
            ],
            [
             0.1,
             "#c51b7d"
            ],
            [
             0.2,
             "#de77ae"
            ],
            [
             0.3,
             "#f1b6da"
            ],
            [
             0.4,
             "#fde0ef"
            ],
            [
             0.5,
             "#f7f7f7"
            ],
            [
             0.6,
             "#e6f5d0"
            ],
            [
             0.7,
             "#b8e186"
            ],
            [
             0.8,
             "#7fbc41"
            ],
            [
             0.9,
             "#4d9221"
            ],
            [
             1,
             "#276419"
            ]
           ],
           "sequential": [
            [
             0,
             "#0d0887"
            ],
            [
             0.1111111111111111,
             "#46039f"
            ],
            [
             0.2222222222222222,
             "#7201a8"
            ],
            [
             0.3333333333333333,
             "#9c179e"
            ],
            [
             0.4444444444444444,
             "#bd3786"
            ],
            [
             0.5555555555555556,
             "#d8576b"
            ],
            [
             0.6666666666666666,
             "#ed7953"
            ],
            [
             0.7777777777777778,
             "#fb9f3a"
            ],
            [
             0.8888888888888888,
             "#fdca26"
            ],
            [
             1,
             "#f0f921"
            ]
           ],
           "sequentialminus": [
            [
             0,
             "#0d0887"
            ],
            [
             0.1111111111111111,
             "#46039f"
            ],
            [
             0.2222222222222222,
             "#7201a8"
            ],
            [
             0.3333333333333333,
             "#9c179e"
            ],
            [
             0.4444444444444444,
             "#bd3786"
            ],
            [
             0.5555555555555556,
             "#d8576b"
            ],
            [
             0.6666666666666666,
             "#ed7953"
            ],
            [
             0.7777777777777778,
             "#fb9f3a"
            ],
            [
             0.8888888888888888,
             "#fdca26"
            ],
            [
             1,
             "#f0f921"
            ]
           ]
          },
          "colorway": [
           "#636efa",
           "#EF553B",
           "#00cc96",
           "#ab63fa",
           "#FFA15A",
           "#19d3f3",
           "#FF6692",
           "#B6E880",
           "#FF97FF",
           "#FECB52"
          ],
          "font": {
           "color": "#2a3f5f"
          },
          "geo": {
           "bgcolor": "white",
           "lakecolor": "white",
           "landcolor": "#E5ECF6",
           "showlakes": true,
           "showland": true,
           "subunitcolor": "white"
          },
          "hoverlabel": {
           "align": "left"
          },
          "hovermode": "closest",
          "mapbox": {
           "style": "light"
          },
          "paper_bgcolor": "white",
          "plot_bgcolor": "#E5ECF6",
          "polar": {
           "angularaxis": {
            "gridcolor": "white",
            "linecolor": "white",
            "ticks": ""
           },
           "bgcolor": "#E5ECF6",
           "radialaxis": {
            "gridcolor": "white",
            "linecolor": "white",
            "ticks": ""
           }
          },
          "scene": {
           "xaxis": {
            "backgroundcolor": "#E5ECF6",
            "gridcolor": "white",
            "gridwidth": 2,
            "linecolor": "white",
            "showbackground": true,
            "ticks": "",
            "zerolinecolor": "white"
           },
           "yaxis": {
            "backgroundcolor": "#E5ECF6",
            "gridcolor": "white",
            "gridwidth": 2,
            "linecolor": "white",
            "showbackground": true,
            "ticks": "",
            "zerolinecolor": "white"
           },
           "zaxis": {
            "backgroundcolor": "#E5ECF6",
            "gridcolor": "white",
            "gridwidth": 2,
            "linecolor": "white",
            "showbackground": true,
            "ticks": "",
            "zerolinecolor": "white"
           }
          },
          "shapedefaults": {
           "line": {
            "color": "#2a3f5f"
           }
          },
          "ternary": {
           "aaxis": {
            "gridcolor": "white",
            "linecolor": "white",
            "ticks": ""
           },
           "baxis": {
            "gridcolor": "white",
            "linecolor": "white",
            "ticks": ""
           },
           "bgcolor": "#E5ECF6",
           "caxis": {
            "gridcolor": "white",
            "linecolor": "white",
            "ticks": ""
           }
          },
          "title": {
           "x": 0.05
          },
          "xaxis": {
           "automargin": true,
           "gridcolor": "white",
           "linecolor": "white",
           "ticks": "",
           "title": {
            "standoff": 15
           },
           "zerolinecolor": "white",
           "zerolinewidth": 2
          },
          "yaxis": {
           "automargin": true,
           "gridcolor": "white",
           "linecolor": "white",
           "ticks": "",
           "title": {
            "standoff": 15
           },
           "zerolinecolor": "white",
           "zerolinewidth": 2
          }
         }
        },
        "title": {
         "text": "Reduced Word2Vec Visualization"
        },
        "xaxis": {
         "anchor": "y",
         "domain": [
          0,
          1
         ],
         "title": {
          "text": "umap1"
         }
        },
        "yaxis": {
         "anchor": "x",
         "domain": [
          0,
          1
         ],
         "title": {
          "text": "umap2"
         }
        }
       }
      }
     },
     "metadata": {},
     "output_type": "display_data"
    }
   ],
   "source": [
    "fig = px.scatter(df, x=\"umap1\" , y=\"umap2\", text=\"text\")\n",
    "fig.update_traces(textposition='top center')\n",
    "fig.update_layout(\n",
    "    height=8000,\n",
    "    title_text='Reduced Word2Vec Visualization'\n",
    ")\n",
    "fig.show()"
   ]
  }
 ],
 "metadata": {
  "kernelspec": {
   "display_name": "Python 3",
   "language": "python",
   "name": "python3"
  },
  "language_info": {
   "codemirror_mode": {
    "name": "ipython",
    "version": 3
   },
   "file_extension": ".py",
   "mimetype": "text/x-python",
   "name": "python",
   "nbconvert_exporter": "python",
   "pygments_lexer": "ipython3",
   "version": "3.11.2"
  }
 },
 "nbformat": 4,
 "nbformat_minor": 2
}
